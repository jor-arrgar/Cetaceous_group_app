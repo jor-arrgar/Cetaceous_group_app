{
 "cells": [
  {
   "cell_type": "code",
   "execution_count": 1,
   "id": "c0b7130e",
   "metadata": {},
   "outputs": [],
   "source": [
    "import pandas as pd\n",
    "import zipfile"
   ]
  },
  {
   "cell_type": "markdown",
   "id": "f953b76c",
   "metadata": {},
   "source": [
    "### Dataset con el target\n",
    "\n",
    "Seleccion de 500 muestras de ballena, 500 de delfín y 500 de beluga"
   ]
  },
  {
   "cell_type": "code",
   "execution_count": 2,
   "id": "617cc3dd",
   "metadata": {},
   "outputs": [
    {
     "data": {
      "text/html": [
       "<div>\n",
       "<style scoped>\n",
       "    .dataframe tbody tr th:only-of-type {\n",
       "        vertical-align: middle;\n",
       "    }\n",
       "\n",
       "    .dataframe tbody tr th {\n",
       "        vertical-align: top;\n",
       "    }\n",
       "\n",
       "    .dataframe thead th {\n",
       "        text-align: right;\n",
       "    }\n",
       "</style>\n",
       "<table border=\"1\" class=\"dataframe\">\n",
       "  <thead>\n",
       "    <tr style=\"text-align: right;\">\n",
       "      <th></th>\n",
       "      <th>image</th>\n",
       "      <th>species</th>\n",
       "      <th>individual_id</th>\n",
       "    </tr>\n",
       "  </thead>\n",
       "  <tbody>\n",
       "    <tr>\n",
       "      <th>0</th>\n",
       "      <td>00021adfb725ed.jpg</td>\n",
       "      <td>melon_headed_whale</td>\n",
       "      <td>cadddb1636b9</td>\n",
       "    </tr>\n",
       "    <tr>\n",
       "      <th>1</th>\n",
       "      <td>000562241d384d.jpg</td>\n",
       "      <td>humpback_whale</td>\n",
       "      <td>1a71fbb72250</td>\n",
       "    </tr>\n",
       "    <tr>\n",
       "      <th>2</th>\n",
       "      <td>0007c33415ce37.jpg</td>\n",
       "      <td>false_killer_whale</td>\n",
       "      <td>60008f293a2b</td>\n",
       "    </tr>\n",
       "    <tr>\n",
       "      <th>3</th>\n",
       "      <td>0007d9bca26a99.jpg</td>\n",
       "      <td>bottlenose_dolphin</td>\n",
       "      <td>4b00fe572063</td>\n",
       "    </tr>\n",
       "    <tr>\n",
       "      <th>4</th>\n",
       "      <td>00087baf5cef7a.jpg</td>\n",
       "      <td>humpback_whale</td>\n",
       "      <td>8e5253662392</td>\n",
       "    </tr>\n",
       "  </tbody>\n",
       "</table>\n",
       "</div>"
      ],
      "text/plain": [
       "                image             species individual_id\n",
       "0  00021adfb725ed.jpg  melon_headed_whale  cadddb1636b9\n",
       "1  000562241d384d.jpg      humpback_whale  1a71fbb72250\n",
       "2  0007c33415ce37.jpg  false_killer_whale  60008f293a2b\n",
       "3  0007d9bca26a99.jpg  bottlenose_dolphin  4b00fe572063\n",
       "4  00087baf5cef7a.jpg      humpback_whale  8e5253662392"
      ]
     },
     "execution_count": 2,
     "metadata": {},
     "output_type": "execute_result"
    }
   ],
   "source": [
    "dataset = pd.read_csv('./train.csv.zip')\n",
    "dataset.head()"
   ]
  },
  {
   "cell_type": "code",
   "execution_count": 4,
   "id": "0c460b82",
   "metadata": {},
   "outputs": [
    {
     "data": {
      "text/plain": [
       "30"
      ]
     },
     "execution_count": 4,
     "metadata": {},
     "output_type": "execute_result"
    }
   ],
   "source": [
    "len(set(dataset['species']))"
   ]
  },
  {
   "cell_type": "code",
   "execution_count": 3,
   "id": "10894790",
   "metadata": {},
   "outputs": [
    {
     "data": {
      "text/plain": [
       "Index(['image', 'species', 'individual_id'], dtype='object')"
      ]
     },
     "execution_count": 3,
     "metadata": {},
     "output_type": "execute_result"
    }
   ],
   "source": [
    "dataset.columns"
   ]
  },
  {
   "cell_type": "code",
   "execution_count": 4,
   "id": "52986a81",
   "metadata": {},
   "outputs": [
    {
     "name": "stdout",
     "output_type": "stream",
     "text": [
      "51033\n",
      "49800\n",
      "{'bottlenose_dolpin', 'globis'}\n"
     ]
    }
   ],
   "source": [
    "mammal = []\n",
    "other = []\n",
    "for specie in dataset['species']:\n",
    "    if specie[-5:] == 'whale' and not specie[-12:] == 'killer_whale':\n",
    "        mammal.append('whale')\n",
    "    elif specie[-7:] == 'dolphin' or specie[-7:] == 'dolpin' or specie[-12:] == 'killer_whale':\n",
    "        mammal.append('dolphin')\n",
    "    elif specie == 'beluga':\n",
    "        mammal.append('beluga')\n",
    "    else:\n",
    "        other.append(specie)\n",
    "\n",
    "print(len(dataset.index))\n",
    "print(len(mammal))\n",
    "print(set(other))"
   ]
  },
  {
   "cell_type": "code",
   "execution_count": 5,
   "id": "bf248698",
   "metadata": {},
   "outputs": [
    {
     "name": "stdout",
     "output_type": "stream",
     "text": [
      "51033\n",
      "51033\n",
      "set()\n"
     ]
    }
   ],
   "source": [
    "mammal = []\n",
    "other = []\n",
    "for specie in dataset['species']:\n",
    "    if specie[-5:] == 'whale' and not specie[-12:] == 'killer_whale':\n",
    "        mammal.append('whale')\n",
    "    elif specie[-7:] == 'dolphin' or specie[-6:] == 'dolpin' or specie[-12:] == 'killer_whale':\n",
    "        mammal.append('dolphin')\n",
    "    elif specie == 'beluga':\n",
    "        mammal.append('beluga')\n",
    "    else:\n",
    "        mammal.append('globis')\n",
    "\n",
    "print(len(dataset.index))\n",
    "print(len(mammal))\n",
    "print(set(other))"
   ]
  },
  {
   "cell_type": "code",
   "execution_count": 6,
   "id": "1ab23f57",
   "metadata": {},
   "outputs": [
    {
     "data": {
      "text/html": [
       "<div>\n",
       "<style scoped>\n",
       "    .dataframe tbody tr th:only-of-type {\n",
       "        vertical-align: middle;\n",
       "    }\n",
       "\n",
       "    .dataframe tbody tr th {\n",
       "        vertical-align: top;\n",
       "    }\n",
       "\n",
       "    .dataframe thead th {\n",
       "        text-align: right;\n",
       "    }\n",
       "</style>\n",
       "<table border=\"1\" class=\"dataframe\">\n",
       "  <thead>\n",
       "    <tr style=\"text-align: right;\">\n",
       "      <th></th>\n",
       "      <th>image</th>\n",
       "      <th>species</th>\n",
       "      <th>individual_id</th>\n",
       "      <th>mammal group</th>\n",
       "    </tr>\n",
       "  </thead>\n",
       "  <tbody>\n",
       "    <tr>\n",
       "      <th>0</th>\n",
       "      <td>00021adfb725ed.jpg</td>\n",
       "      <td>melon_headed_whale</td>\n",
       "      <td>cadddb1636b9</td>\n",
       "      <td>whale</td>\n",
       "    </tr>\n",
       "    <tr>\n",
       "      <th>1</th>\n",
       "      <td>000562241d384d.jpg</td>\n",
       "      <td>humpback_whale</td>\n",
       "      <td>1a71fbb72250</td>\n",
       "      <td>whale</td>\n",
       "    </tr>\n",
       "    <tr>\n",
       "      <th>2</th>\n",
       "      <td>0007c33415ce37.jpg</td>\n",
       "      <td>false_killer_whale</td>\n",
       "      <td>60008f293a2b</td>\n",
       "      <td>dolphin</td>\n",
       "    </tr>\n",
       "    <tr>\n",
       "      <th>3</th>\n",
       "      <td>0007d9bca26a99.jpg</td>\n",
       "      <td>bottlenose_dolphin</td>\n",
       "      <td>4b00fe572063</td>\n",
       "      <td>dolphin</td>\n",
       "    </tr>\n",
       "    <tr>\n",
       "      <th>4</th>\n",
       "      <td>00087baf5cef7a.jpg</td>\n",
       "      <td>humpback_whale</td>\n",
       "      <td>8e5253662392</td>\n",
       "      <td>whale</td>\n",
       "    </tr>\n",
       "  </tbody>\n",
       "</table>\n",
       "</div>"
      ],
      "text/plain": [
       "                image             species individual_id mammal group\n",
       "0  00021adfb725ed.jpg  melon_headed_whale  cadddb1636b9        whale\n",
       "1  000562241d384d.jpg      humpback_whale  1a71fbb72250        whale\n",
       "2  0007c33415ce37.jpg  false_killer_whale  60008f293a2b      dolphin\n",
       "3  0007d9bca26a99.jpg  bottlenose_dolphin  4b00fe572063      dolphin\n",
       "4  00087baf5cef7a.jpg      humpback_whale  8e5253662392        whale"
      ]
     },
     "execution_count": 6,
     "metadata": {},
     "output_type": "execute_result"
    }
   ],
   "source": [
    "dataset['mammal group'] = mammal\n",
    "dataset.head()"
   ]
  },
  {
   "cell_type": "code",
   "execution_count": 7,
   "id": "acd8eaa4",
   "metadata": {},
   "outputs": [
    {
     "name": "stdout",
     "output_type": "stream",
     "text": [
      "whales 21584\n",
      "dolphins 21890\n",
      "beluga 7443\n",
      "globis 116\n"
     ]
    }
   ],
   "source": [
    "whales = dataset[dataset['mammal group'] == 'whale']\n",
    "dolphins = dataset[dataset['mammal group'] == 'dolphin']\n",
    "beluga = dataset[dataset['mammal group'] == 'beluga']\n",
    "globis = dataset[dataset['mammal group'] == 'globis']\n",
    "\n",
    "print('whales' , len(whales.index))\n",
    "print('dolphins' , len(dolphins.index))\n",
    "print('beluga' , len(beluga.index))\n",
    "print('globis' , len(globis.index))"
   ]
  },
  {
   "cell_type": "markdown",
   "id": "28ca9aba",
   "metadata": {},
   "source": [
    "##### Seleccion de las 500 imagenes de cada una"
   ]
  },
  {
   "cell_type": "code",
   "execution_count": 8,
   "id": "7c3922de",
   "metadata": {},
   "outputs": [],
   "source": [
    "whales_500 = whales.sample(n= 1500 , random_state= 98)\n",
    "dolphins_500 = dolphins.sample(n= 1500 , random_state= 98)\n",
    "beluga_500 = beluga.sample(n= 1500 , random_state= 98)\n"
   ]
  },
  {
   "cell_type": "code",
   "execution_count": 9,
   "id": "893664b3",
   "metadata": {},
   "outputs": [
    {
     "name": "stdout",
     "output_type": "stream",
     "text": [
      "whales 1500\n",
      "dolphins 1500\n",
      "beluga 1500\n"
     ]
    }
   ],
   "source": [
    "print('whales' , len(whales_500.index))\n",
    "print('dolphins' , len(dolphins_500.index))\n",
    "print('beluga' , len(beluga_500.index))"
   ]
  },
  {
   "cell_type": "code",
   "execution_count": 10,
   "id": "0db9e333",
   "metadata": {},
   "outputs": [
    {
     "data": {
      "text/html": [
       "<div>\n",
       "<style scoped>\n",
       "    .dataframe tbody tr th:only-of-type {\n",
       "        vertical-align: middle;\n",
       "    }\n",
       "\n",
       "    .dataframe tbody tr th {\n",
       "        vertical-align: top;\n",
       "    }\n",
       "\n",
       "    .dataframe thead th {\n",
       "        text-align: right;\n",
       "    }\n",
       "</style>\n",
       "<table border=\"1\" class=\"dataframe\">\n",
       "  <thead>\n",
       "    <tr style=\"text-align: right;\">\n",
       "      <th></th>\n",
       "      <th>image</th>\n",
       "      <th>species</th>\n",
       "      <th>individual_id</th>\n",
       "      <th>mammal group</th>\n",
       "    </tr>\n",
       "  </thead>\n",
       "  <tbody>\n",
       "    <tr>\n",
       "      <th>32012</th>\n",
       "      <td>a0f395c011c8c5.jpg</td>\n",
       "      <td>melon_headed_whale</td>\n",
       "      <td>1d5f22dd073f</td>\n",
       "      <td>whale</td>\n",
       "    </tr>\n",
       "    <tr>\n",
       "      <th>41393</th>\n",
       "      <td>d002f1c2c457cb.jpg</td>\n",
       "      <td>fin_whale</td>\n",
       "      <td>4cc267daf5e7</td>\n",
       "      <td>whale</td>\n",
       "    </tr>\n",
       "    <tr>\n",
       "      <th>43768</th>\n",
       "      <td>dbd8c377806229.jpg</td>\n",
       "      <td>blue_whale</td>\n",
       "      <td>9ed88b6a0ba2</td>\n",
       "      <td>whale</td>\n",
       "    </tr>\n",
       "    <tr>\n",
       "      <th>21383</th>\n",
       "      <td>6bcde91c2891df.jpg</td>\n",
       "      <td>gray_whale</td>\n",
       "      <td>626fc1a305f3</td>\n",
       "      <td>whale</td>\n",
       "    </tr>\n",
       "    <tr>\n",
       "      <th>29345</th>\n",
       "      <td>93a403e47ce37c.jpg</td>\n",
       "      <td>humpback_whale</td>\n",
       "      <td>8fdfde3b5619</td>\n",
       "      <td>whale</td>\n",
       "    </tr>\n",
       "  </tbody>\n",
       "</table>\n",
       "</div>"
      ],
      "text/plain": [
       "                    image             species individual_id mammal group\n",
       "32012  a0f395c011c8c5.jpg  melon_headed_whale  1d5f22dd073f        whale\n",
       "41393  d002f1c2c457cb.jpg           fin_whale  4cc267daf5e7        whale\n",
       "43768  dbd8c377806229.jpg          blue_whale  9ed88b6a0ba2        whale\n",
       "21383  6bcde91c2891df.jpg          gray_whale  626fc1a305f3        whale\n",
       "29345  93a403e47ce37c.jpg      humpback_whale  8fdfde3b5619        whale"
      ]
     },
     "execution_count": 10,
     "metadata": {},
     "output_type": "execute_result"
    }
   ],
   "source": [
    "dataset_final = pd.concat([whales_500 , dolphins_500 , beluga_500])\n",
    "dataset_final.head()"
   ]
  },
  {
   "cell_type": "code",
   "execution_count": 11,
   "id": "ffb48029",
   "metadata": {},
   "outputs": [
    {
     "data": {
      "text/html": [
       "<div>\n",
       "<style scoped>\n",
       "    .dataframe tbody tr th:only-of-type {\n",
       "        vertical-align: middle;\n",
       "    }\n",
       "\n",
       "    .dataframe tbody tr th {\n",
       "        vertical-align: top;\n",
       "    }\n",
       "\n",
       "    .dataframe thead th {\n",
       "        text-align: right;\n",
       "    }\n",
       "</style>\n",
       "<table border=\"1\" class=\"dataframe\">\n",
       "  <thead>\n",
       "    <tr style=\"text-align: right;\">\n",
       "      <th></th>\n",
       "      <th>image</th>\n",
       "      <th>species</th>\n",
       "      <th>individual_id</th>\n",
       "      <th>mammal group</th>\n",
       "    </tr>\n",
       "  </thead>\n",
       "  <tbody>\n",
       "    <tr>\n",
       "      <th>0</th>\n",
       "      <td>dfaa26cf13a214.jpg</td>\n",
       "      <td>beluga</td>\n",
       "      <td>19b638e11443</td>\n",
       "      <td>beluga</td>\n",
       "    </tr>\n",
       "    <tr>\n",
       "      <th>1</th>\n",
       "      <td>6cfa1b234f2a04.jpg</td>\n",
       "      <td>killer_whale</td>\n",
       "      <td>0e461620e872</td>\n",
       "      <td>dolphin</td>\n",
       "    </tr>\n",
       "    <tr>\n",
       "      <th>2</th>\n",
       "      <td>440b6036e54ce8.jpg</td>\n",
       "      <td>bottlenose_dolpin</td>\n",
       "      <td>c02b7ad6faa0</td>\n",
       "      <td>dolphin</td>\n",
       "    </tr>\n",
       "    <tr>\n",
       "      <th>3</th>\n",
       "      <td>7fba21051447fd.jpg</td>\n",
       "      <td>beluga</td>\n",
       "      <td>babd014300b7</td>\n",
       "      <td>beluga</td>\n",
       "    </tr>\n",
       "    <tr>\n",
       "      <th>4</th>\n",
       "      <td>d381ef7ac5d5a3.jpg</td>\n",
       "      <td>beluga</td>\n",
       "      <td>5ac053677ed1</td>\n",
       "      <td>beluga</td>\n",
       "    </tr>\n",
       "    <tr>\n",
       "      <th>5</th>\n",
       "      <td>6d2a792592ad13.jpg</td>\n",
       "      <td>beluga</td>\n",
       "      <td>124534ac8131</td>\n",
       "      <td>beluga</td>\n",
       "    </tr>\n",
       "    <tr>\n",
       "      <th>6</th>\n",
       "      <td>1a25a16fe59bbe.jpg</td>\n",
       "      <td>bottlenose_dolphin</td>\n",
       "      <td>2ff676fd700f</td>\n",
       "      <td>dolphin</td>\n",
       "    </tr>\n",
       "    <tr>\n",
       "      <th>7</th>\n",
       "      <td>439580f1fc9488.jpg</td>\n",
       "      <td>white_sided_dolphin</td>\n",
       "      <td>cfacd68a2a32</td>\n",
       "      <td>dolphin</td>\n",
       "    </tr>\n",
       "    <tr>\n",
       "      <th>8</th>\n",
       "      <td>e3c359067831b3.jpg</td>\n",
       "      <td>bottlenose_dolphin</td>\n",
       "      <td>70cd1a7d97a7</td>\n",
       "      <td>dolphin</td>\n",
       "    </tr>\n",
       "    <tr>\n",
       "      <th>9</th>\n",
       "      <td>db050e682e4d7e.jpg</td>\n",
       "      <td>spinner_dolphin</td>\n",
       "      <td>b031fecf7ab2</td>\n",
       "      <td>dolphin</td>\n",
       "    </tr>\n",
       "  </tbody>\n",
       "</table>\n",
       "</div>"
      ],
      "text/plain": [
       "                image              species individual_id mammal group\n",
       "0  dfaa26cf13a214.jpg               beluga  19b638e11443       beluga\n",
       "1  6cfa1b234f2a04.jpg         killer_whale  0e461620e872      dolphin\n",
       "2  440b6036e54ce8.jpg    bottlenose_dolpin  c02b7ad6faa0      dolphin\n",
       "3  7fba21051447fd.jpg               beluga  babd014300b7       beluga\n",
       "4  d381ef7ac5d5a3.jpg               beluga  5ac053677ed1       beluga\n",
       "5  6d2a792592ad13.jpg               beluga  124534ac8131       beluga\n",
       "6  1a25a16fe59bbe.jpg   bottlenose_dolphin  2ff676fd700f      dolphin\n",
       "7  439580f1fc9488.jpg  white_sided_dolphin  cfacd68a2a32      dolphin\n",
       "8  e3c359067831b3.jpg   bottlenose_dolphin  70cd1a7d97a7      dolphin\n",
       "9  db050e682e4d7e.jpg      spinner_dolphin  b031fecf7ab2      dolphin"
      ]
     },
     "execution_count": 11,
     "metadata": {},
     "output_type": "execute_result"
    }
   ],
   "source": [
    "dataset_final=dataset_final.sample(frac=1).reset_index(drop=True)\n",
    "dataset_final.head(10)"
   ]
  },
  {
   "cell_type": "code",
   "execution_count": 12,
   "id": "86ad21b1",
   "metadata": {},
   "outputs": [
    {
     "data": {
      "text/html": [
       "<div>\n",
       "<style scoped>\n",
       "    .dataframe tbody tr th:only-of-type {\n",
       "        vertical-align: middle;\n",
       "    }\n",
       "\n",
       "    .dataframe tbody tr th {\n",
       "        vertical-align: top;\n",
       "    }\n",
       "\n",
       "    .dataframe thead th {\n",
       "        text-align: right;\n",
       "    }\n",
       "</style>\n",
       "<table border=\"1\" class=\"dataframe\">\n",
       "  <thead>\n",
       "    <tr style=\"text-align: right;\">\n",
       "      <th></th>\n",
       "      <th>image</th>\n",
       "      <th>species</th>\n",
       "      <th>individual_id</th>\n",
       "      <th>mammal group</th>\n",
       "      <th>categories</th>\n",
       "    </tr>\n",
       "  </thead>\n",
       "  <tbody>\n",
       "    <tr>\n",
       "      <th>0</th>\n",
       "      <td>dfaa26cf13a214.jpg</td>\n",
       "      <td>beluga</td>\n",
       "      <td>19b638e11443</td>\n",
       "      <td>beluga</td>\n",
       "      <td>2</td>\n",
       "    </tr>\n",
       "    <tr>\n",
       "      <th>1</th>\n",
       "      <td>6cfa1b234f2a04.jpg</td>\n",
       "      <td>killer_whale</td>\n",
       "      <td>0e461620e872</td>\n",
       "      <td>dolphin</td>\n",
       "      <td>0</td>\n",
       "    </tr>\n",
       "    <tr>\n",
       "      <th>2</th>\n",
       "      <td>440b6036e54ce8.jpg</td>\n",
       "      <td>bottlenose_dolpin</td>\n",
       "      <td>c02b7ad6faa0</td>\n",
       "      <td>dolphin</td>\n",
       "      <td>0</td>\n",
       "    </tr>\n",
       "    <tr>\n",
       "      <th>3</th>\n",
       "      <td>7fba21051447fd.jpg</td>\n",
       "      <td>beluga</td>\n",
       "      <td>babd014300b7</td>\n",
       "      <td>beluga</td>\n",
       "      <td>2</td>\n",
       "    </tr>\n",
       "    <tr>\n",
       "      <th>4</th>\n",
       "      <td>d381ef7ac5d5a3.jpg</td>\n",
       "      <td>beluga</td>\n",
       "      <td>5ac053677ed1</td>\n",
       "      <td>beluga</td>\n",
       "      <td>2</td>\n",
       "    </tr>\n",
       "  </tbody>\n",
       "</table>\n",
       "</div>"
      ],
      "text/plain": [
       "                image            species individual_id mammal group  \\\n",
       "0  dfaa26cf13a214.jpg             beluga  19b638e11443       beluga   \n",
       "1  6cfa1b234f2a04.jpg       killer_whale  0e461620e872      dolphin   \n",
       "2  440b6036e54ce8.jpg  bottlenose_dolpin  c02b7ad6faa0      dolphin   \n",
       "3  7fba21051447fd.jpg             beluga  babd014300b7       beluga   \n",
       "4  d381ef7ac5d5a3.jpg             beluga  5ac053677ed1       beluga   \n",
       "\n",
       "   categories  \n",
       "0           2  \n",
       "1           0  \n",
       "2           0  \n",
       "3           2  \n",
       "4           2  "
      ]
     },
     "execution_count": 12,
     "metadata": {},
     "output_type": "execute_result"
    }
   ],
   "source": [
    "categories = []\n",
    "for mammal in dataset_final['mammal group']:\n",
    "    if mammal == 'dolphin':\n",
    "        categories.append(0)\n",
    "    elif mammal == 'whale':\n",
    "        categories.append(1)\n",
    "    else:\n",
    "        categories.append(2)\n",
    "dataset_final['categories'] = categories\n",
    "dataset_final.head()"
   ]
  },
  {
   "cell_type": "code",
   "execution_count": 13,
   "id": "33e68a17",
   "metadata": {},
   "outputs": [],
   "source": [
    "dataset_final.to_csv('../model_preparation/data.csv' , sep= ';' , index= False)"
   ]
  },
  {
   "cell_type": "markdown",
   "id": "8e73af80",
   "metadata": {},
   "source": [
    "### Extraccion de las imagenes correspondientes desde la carpeta zip"
   ]
  },
  {
   "cell_type": "code",
   "execution_count": 14,
   "id": "5409616d",
   "metadata": {},
   "outputs": [
    {
     "name": "stdout",
     "output_type": "stream",
     "text": [
      "Finished unzip.\n"
     ]
    }
   ],
   "source": [
    "zip_path = 'C:/Users/jorar/Desktop/train_images.zip'\n",
    "try:\n",
    "    fh = open(zip_path , 'rb')\n",
    "    z = zipfile.ZipFile(fh)\n",
    "    contador = 0\n",
    "    for name in z.namelist():\n",
    "        if name in list(dataset_final['image']):\n",
    "\n",
    "            outpath = \"../model_preparation/cetaceous_images\"\n",
    "            z.extract(name, outpath)\n",
    "\n",
    "    fh.close()\n",
    "    print('Finished unzip.')\n",
    "except:\n",
    "    print('You need to download the original zip file from Kaggle and set the path. \\nhttps://www.kaggle.com/c/happy-whale-and-dolphin')"
   ]
  }
 ],
 "metadata": {
  "kernelspec": {
   "display_name": "Python 3",
   "language": "python",
   "name": "python3"
  },
  "language_info": {
   "codemirror_mode": {
    "name": "ipython",
    "version": 3
   },
   "file_extension": ".py",
   "mimetype": "text/x-python",
   "name": "python",
   "nbconvert_exporter": "python",
   "pygments_lexer": "ipython3",
   "version": "3.7.4"
  }
 },
 "nbformat": 4,
 "nbformat_minor": 5
}
