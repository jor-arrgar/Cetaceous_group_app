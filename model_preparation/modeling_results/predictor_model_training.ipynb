{
 "cells": [
  {
   "cell_type": "markdown",
   "id": "96491875",
   "metadata": {},
   "source": [
    "The following code in written on a jupyter notebook due to error with paths in python scripts (.py)"
   ]
  },
  {
   "cell_type": "code",
   "execution_count": 1,
   "id": "c0b7130e",
   "metadata": {},
   "outputs": [],
   "source": [
    "# MODULES\n",
    "import pandas as pd\n",
    "import numpy as np\n",
    "import cv2\n",
    "import matplotlib.pyplot as plt\n",
    "import pickle\n",
    "\n",
    "from sklearn.model_selection import train_test_split\n",
    "from tensorflow.keras.utils import to_categorical\n",
    "\n",
    "from tensorflow.keras.models import Sequential\n",
    "from tensorflow.keras.layers import Conv2D, MaxPooling2D, Dropout, Flatten, Dense"
   ]
  },
  {
   "cell_type": "code",
   "execution_count": 4,
   "id": "95102039",
   "metadata": {},
   "outputs": [],
   "source": [
    "# PARAMETERS MODIFIED DURING EXPERIMENT\n",
    "pixels = 100\n",
    "pool_size_1 = (3,3)\n",
    "pool_size_2 = (3,3)\n",
    "pool_size_3 = (3,3)\n",
    "n_neurons = 400\n",
    "epoch = 50\n",
    "batch = 128"
   ]
  },
  {
   "cell_type": "code",
   "execution_count": 2,
   "id": "d6290c7c",
   "metadata": {},
   "outputs": [],
   "source": [
    "# TEST DATA\n",
    "dataset = pd.read_csv('../data.csv' , sep= ';')"
   ]
  },
  {
   "cell_type": "code",
   "execution_count": 5,
   "id": "1ae0ceb9",
   "metadata": {},
   "outputs": [],
   "source": [
    "# IMAGE EXTRACTION AND RESHAPE AND RESIZE TO 100 x 100 PIXELS\n",
    "image_list = []\n",
    "for image in dataset['image']:\n",
    "    path = '../cetaceous_images/' + image\n",
    "    img = cv2.imread(path)\n",
    "    image = cv2.resize(img, (pixels, pixels))\n",
    "    image_list.append(image)\n",
    "    "
   ]
  },
  {
   "cell_type": "code",
   "execution_count": 4,
   "id": "bbf11b28",
   "metadata": {},
   "outputs": [],
   "source": [
    "# TRAIN / VAL / TEST SPLIT\n",
    "X = ((np.array(image_list)) / 255)\n",
    "y = to_categorical(dataset['categories'])\n",
    "\n",
    "X_train , X_test , y_train , y_test = train_test_split(X , y , test_size= 0.2)\n",
    "\n",
    "X_val = X_train[-600:]\n",
    "y_val = y_train[-600:]\n",
    "X_train = X_train[:-600]\n",
    "y_train = y_train[:-600]"
   ]
  },
  {
   "cell_type": "code",
   "execution_count": 5,
   "id": "6c9cb434",
   "metadata": {},
   "outputs": [
    {
     "name": "stdout",
     "output_type": "stream",
     "text": [
      "Model: \"sequential\"\n",
      "_________________________________________________________________\n",
      " Layer (type)                Output Shape              Param #   \n",
      "=================================================================\n",
      " conv2d (Conv2D)             (None, 98, 98, 32)        896       \n",
      "                                                                 \n",
      " max_pooling2d (MaxPooling2D  (None, 32, 32, 32)       0         \n",
      " )                                                               \n",
      "                                                                 \n",
      " dropout (Dropout)           (None, 32, 32, 32)        0         \n",
      "                                                                 \n",
      " conv2d_1 (Conv2D)           (None, 30, 30, 64)        18496     \n",
      "                                                                 \n",
      " max_pooling2d_1 (MaxPooling  (None, 10, 10, 64)       0         \n",
      " 2D)                                                             \n",
      "                                                                 \n",
      " dropout_1 (Dropout)         (None, 10, 10, 64)        0         \n",
      "                                                                 \n",
      " conv2d_2 (Conv2D)           (None, 8, 8, 128)         73856     \n",
      "                                                                 \n",
      " max_pooling2d_2 (MaxPooling  (None, 2, 2, 128)        0         \n",
      " 2D)                                                             \n",
      "                                                                 \n",
      " dropout_2 (Dropout)         (None, 2, 2, 128)         0         \n",
      "                                                                 \n",
      " flatten (Flatten)           (None, 512)               0         \n",
      "                                                                 \n",
      " dense (Dense)               (None, 400)               205200    \n",
      "                                                                 \n",
      " dropout_3 (Dropout)         (None, 400)               0         \n",
      "                                                                 \n",
      " dense_1 (Dense)             (None, 3)                 1203      \n",
      "                                                                 \n",
      "=================================================================\n",
      "Total params: 299,651\n",
      "Trainable params: 299,651\n",
      "Non-trainable params: 0\n",
      "_________________________________________________________________\n"
     ]
    }
   ],
   "source": [
    "# MODEL PREPARATION\n",
    "model = Sequential()\n",
    "\n",
    "model.add(Conv2D(32, (3,3), activation='relu', \n",
    "            input_shape=(pixels, pixels, 3)))\n",
    "model.add(MaxPooling2D(pool_size=pool_size_1))\n",
    "model.add(Dropout(0.25))\n",
    "\n",
    "model.add(Conv2D(64, (3,3), activation='relu'))\n",
    "model.add(MaxPooling2D(pool_size=pool_size_2))\n",
    "model.add(Dropout(0.25))\n",
    "\n",
    "model.add(Conv2D(128, (3,3), activation='relu'))\n",
    "model.add(MaxPooling2D(pool_size=pool_size_3))\n",
    "model.add(Dropout(0.25))\n",
    "\n",
    "model.add(Flatten())\n",
    "model.add(Dense(n_neurons, activation='relu'))\n",
    "model.add(Dropout(0.5))\n",
    "model.add(Dense(3,activation='softmax')) \n",
    "\n",
    "model.compile(optimizer=\"adam\",\n",
    "            loss='categorical_crossentropy',\n",
    "            metrics=['accuracy'])\n",
    "\n",
    "summary = model.summary()"
   ]
  },
  {
   "cell_type": "code",
   "execution_count": 7,
   "id": "79fc73af",
   "metadata": {},
   "outputs": [
    {
     "name": "stdout",
     "output_type": "stream",
     "text": [
      "Epoch 1/50\n",
      "24/24 [==============================] - 9s 367ms/step - loss: 1.0188 - accuracy: 0.4653 - val_loss: 0.9275 - val_accuracy: 0.5483\n",
      "Epoch 2/50\n",
      "24/24 [==============================] - 8s 349ms/step - loss: 0.7746 - accuracy: 0.6083 - val_loss: 0.7749 - val_accuracy: 0.6717\n",
      "Epoch 3/50\n",
      "24/24 [==============================] - 10s 421ms/step - loss: 0.7079 - accuracy: 0.6490 - val_loss: 0.7034 - val_accuracy: 0.7017\n",
      "Epoch 4/50\n",
      "24/24 [==============================] - 20s 827ms/step - loss: 0.6446 - accuracy: 0.6927 - val_loss: 0.6724 - val_accuracy: 0.7150\n",
      "Epoch 5/50\n",
      "24/24 [==============================] - 21s 865ms/step - loss: 0.6065 - accuracy: 0.7233 - val_loss: 0.6307 - val_accuracy: 0.7533\n",
      "Epoch 6/50\n",
      "24/24 [==============================] - 21s 861ms/step - loss: 0.5544 - accuracy: 0.7453 - val_loss: 0.5801 - val_accuracy: 0.7733\n",
      "Epoch 7/50\n",
      "24/24 [==============================] - 10s 410ms/step - loss: 0.5249 - accuracy: 0.7697 - val_loss: 0.6005 - val_accuracy: 0.7433\n",
      "Epoch 8/50\n",
      "24/24 [==============================] - 9s 364ms/step - loss: 0.5145 - accuracy: 0.7773 - val_loss: 0.5244 - val_accuracy: 0.7833\n",
      "Epoch 9/50\n",
      "24/24 [==============================] - 9s 358ms/step - loss: 0.4802 - accuracy: 0.7940 - val_loss: 0.5381 - val_accuracy: 0.7767\n",
      "Epoch 10/50\n",
      "24/24 [==============================] - 10s 415ms/step - loss: 0.4569 - accuracy: 0.8070 - val_loss: 0.4659 - val_accuracy: 0.8067\n",
      "Epoch 11/50\n",
      "24/24 [==============================] - 9s 361ms/step - loss: 0.4591 - accuracy: 0.8053 - val_loss: 0.4471 - val_accuracy: 0.8317\n",
      "Epoch 12/50\n",
      "24/24 [==============================] - 9s 377ms/step - loss: 0.4437 - accuracy: 0.8060 - val_loss: 0.5127 - val_accuracy: 0.7833\n",
      "Epoch 13/50\n",
      "24/24 [==============================] - 10s 439ms/step - loss: 0.4096 - accuracy: 0.8283 - val_loss: 0.4520 - val_accuracy: 0.8200\n",
      "Epoch 14/50\n",
      "24/24 [==============================] - 9s 364ms/step - loss: 0.4121 - accuracy: 0.8253 - val_loss: 0.4242 - val_accuracy: 0.8433\n",
      "Epoch 15/50\n",
      "24/24 [==============================] - 9s 363ms/step - loss: 0.3804 - accuracy: 0.8443 - val_loss: 0.4359 - val_accuracy: 0.8217\n",
      "Epoch 16/50\n",
      "24/24 [==============================] - 8s 355ms/step - loss: 0.3658 - accuracy: 0.8513 - val_loss: 0.4047 - val_accuracy: 0.8283\n",
      "Epoch 17/50\n",
      "24/24 [==============================] - 8s 354ms/step - loss: 0.3458 - accuracy: 0.8617 - val_loss: 0.4023 - val_accuracy: 0.8383\n",
      "Epoch 18/50\n",
      "24/24 [==============================] - 8s 352ms/step - loss: 0.3461 - accuracy: 0.8570 - val_loss: 0.4066 - val_accuracy: 0.8400\n",
      "Epoch 19/50\n",
      "24/24 [==============================] - 8s 353ms/step - loss: 0.3287 - accuracy: 0.8653 - val_loss: 0.3927 - val_accuracy: 0.8450\n",
      "Epoch 20/50\n",
      "24/24 [==============================] - 8s 351ms/step - loss: 0.3207 - accuracy: 0.8677 - val_loss: 0.4378 - val_accuracy: 0.8283\n",
      "Epoch 21/50\n",
      "24/24 [==============================] - 8s 353ms/step - loss: 0.3113 - accuracy: 0.8760 - val_loss: 0.3930 - val_accuracy: 0.8383\n",
      "Epoch 22/50\n",
      "24/24 [==============================] - 8s 353ms/step - loss: 0.3006 - accuracy: 0.8820 - val_loss: 0.3745 - val_accuracy: 0.8450\n",
      "Epoch 23/50\n",
      "24/24 [==============================] - 8s 354ms/step - loss: 0.2905 - accuracy: 0.8813 - val_loss: 0.3598 - val_accuracy: 0.8700\n",
      "Epoch 24/50\n",
      "24/24 [==============================] - 8s 350ms/step - loss: 0.2868 - accuracy: 0.8893 - val_loss: 0.3727 - val_accuracy: 0.8650\n",
      "Epoch 25/50\n",
      "24/24 [==============================] - 8s 349ms/step - loss: 0.2703 - accuracy: 0.8830 - val_loss: 0.3758 - val_accuracy: 0.8650\n",
      "Epoch 26/50\n",
      "24/24 [==============================] - 8s 351ms/step - loss: 0.2692 - accuracy: 0.8917 - val_loss: 0.3762 - val_accuracy: 0.8550\n",
      "Epoch 27/50\n",
      "24/24 [==============================] - 8s 347ms/step - loss: 0.2591 - accuracy: 0.8977 - val_loss: 0.3644 - val_accuracy: 0.8617\n",
      "Epoch 28/50\n",
      "24/24 [==============================] - 8s 351ms/step - loss: 0.2595 - accuracy: 0.8983 - val_loss: 0.3838 - val_accuracy: 0.8533\n",
      "Epoch 29/50\n",
      "24/24 [==============================] - 8s 351ms/step - loss: 0.2410 - accuracy: 0.9043 - val_loss: 0.3986 - val_accuracy: 0.8517\n",
      "Epoch 30/50\n",
      "24/24 [==============================] - 8s 351ms/step - loss: 0.2535 - accuracy: 0.8963 - val_loss: 0.3957 - val_accuracy: 0.8450\n",
      "Epoch 31/50\n",
      "24/24 [==============================] - 8s 350ms/step - loss: 0.2288 - accuracy: 0.9073 - val_loss: 0.4178 - val_accuracy: 0.8500\n",
      "Epoch 32/50\n",
      "24/24 [==============================] - 8s 347ms/step - loss: 0.2299 - accuracy: 0.9080 - val_loss: 0.3845 - val_accuracy: 0.8650\n",
      "Epoch 33/50\n",
      "24/24 [==============================] - 8s 353ms/step - loss: 0.2252 - accuracy: 0.9060 - val_loss: 0.4259 - val_accuracy: 0.8450\n",
      "Epoch 34/50\n",
      "24/24 [==============================] - 9s 372ms/step - loss: 0.2112 - accuracy: 0.9200 - val_loss: 0.3606 - val_accuracy: 0.8767\n",
      "Epoch 35/50\n",
      "24/24 [==============================] - 8s 348ms/step - loss: 0.2118 - accuracy: 0.9200 - val_loss: 0.3621 - val_accuracy: 0.8683\n",
      "Epoch 36/50\n",
      "24/24 [==============================] - 8s 353ms/step - loss: 0.2148 - accuracy: 0.9163 - val_loss: 0.3740 - val_accuracy: 0.8750\n",
      "Epoch 37/50\n",
      "24/24 [==============================] - 8s 348ms/step - loss: 0.2011 - accuracy: 0.9237 - val_loss: 0.3659 - val_accuracy: 0.8683\n",
      "Epoch 38/50\n",
      "24/24 [==============================] - 8s 353ms/step - loss: 0.1760 - accuracy: 0.9337 - val_loss: 0.3776 - val_accuracy: 0.8833\n",
      "Epoch 39/50\n",
      "24/24 [==============================] - 8s 350ms/step - loss: 0.2013 - accuracy: 0.9200 - val_loss: 0.3794 - val_accuracy: 0.8650\n",
      "Epoch 40/50\n",
      "24/24 [==============================] - 9s 357ms/step - loss: 0.1774 - accuracy: 0.9323 - val_loss: 0.3668 - val_accuracy: 0.8817\n",
      "Epoch 41/50\n",
      "24/24 [==============================] - 9s 356ms/step - loss: 0.1814 - accuracy: 0.9323 - val_loss: 0.3898 - val_accuracy: 0.8717\n",
      "Epoch 42/50\n",
      "24/24 [==============================] - 8s 349ms/step - loss: 0.1826 - accuracy: 0.9250 - val_loss: 0.3999 - val_accuracy: 0.8600\n",
      "Epoch 43/50\n",
      "24/24 [==============================] - 8s 345ms/step - loss: 0.1562 - accuracy: 0.9380 - val_loss: 0.4262 - val_accuracy: 0.8683\n",
      "Epoch 44/50\n",
      "24/24 [==============================] - 8s 352ms/step - loss: 0.1556 - accuracy: 0.9373 - val_loss: 0.3951 - val_accuracy: 0.8667\n",
      "Epoch 45/50\n",
      "24/24 [==============================] - 8s 345ms/step - loss: 0.1410 - accuracy: 0.9453 - val_loss: 0.4327 - val_accuracy: 0.8583\n",
      "Epoch 46/50\n",
      "24/24 [==============================] - 8s 349ms/step - loss: 0.1487 - accuracy: 0.9460 - val_loss: 0.3950 - val_accuracy: 0.8833\n",
      "Epoch 47/50\n",
      "24/24 [==============================] - 8s 350ms/step - loss: 0.1439 - accuracy: 0.9463 - val_loss: 0.4479 - val_accuracy: 0.8683\n",
      "Epoch 48/50\n",
      "24/24 [==============================] - 8s 349ms/step - loss: 0.1257 - accuracy: 0.9520 - val_loss: 0.4176 - val_accuracy: 0.8767\n",
      "Epoch 49/50\n",
      "24/24 [==============================] - 8s 350ms/step - loss: 0.1300 - accuracy: 0.9467 - val_loss: 0.4104 - val_accuracy: 0.8833\n",
      "Epoch 50/50\n",
      "24/24 [==============================] - 8s 349ms/step - loss: 0.1172 - accuracy: 0.9557 - val_loss: 0.4002 - val_accuracy: 0.8900\n"
     ]
    }
   ],
   "source": [
    "# MODEL TRAINING\n",
    "history = model.fit(X_train,\n",
    "        y_train,\n",
    "        epochs=epoch,\n",
    "        batch_size=batch, \n",
    "        validation_data = (X_val,y_val))"
   ]
  },
  {
   "cell_type": "code",
   "execution_count": 8,
   "id": "5320f4dd",
   "metadata": {},
   "outputs": [
    {
     "data": {
      "image/png": "[encoded data removed]",
      "text/plain": [
       "<Figure size 576x360 with 1 Axes>"
      ]
     },
     "metadata": {
      "needs_background": "light"
     },
     "output_type": "display_data"
    }
   ],
   "source": [
    "history_df = pd.DataFrame(history.history)\n",
    "fig = history_df.plot(figsize=(8,5))\n",
    "plt.grid(True)\n",
    "plt.savefig('../../cetaceous_group_predictor/training_stats.png')"
   ]
  },
  {
   "cell_type": "code",
   "execution_count": 9,
   "id": "409dc9b6",
   "metadata": {},
   "outputs": [
    {
     "name": "stdout",
     "output_type": "stream",
     "text": [
      "29/29 [==============================] - 1s 32ms/step - loss: 0.3185 - accuracy: 0.8900\n",
      "test loss, test accuracy [0.31853973865509033, 0.8899999856948853]\n"
     ]
    }
   ],
   "source": [
    "#RESULTS\n",
    "results = model.evaluate(X_test, y_test)\n",
    "print(\"test loss, test accuracy\",results)"
   ]
  },
  {
   "cell_type": "code",
   "execution_count": 10,
   "id": "47b2a44f",
   "metadata": {},
   "outputs": [
    {
     "name": "stdout",
     "output_type": "stream",
     "text": [
      "Elements correctly saved\n",
      "\n",
      "END OF THE TRAINING\n"
     ]
    }
   ],
   "source": [
    "# MODEL SAVE\n",
    "model.save(\"../../cetaceous_group_predictor/model.h5\")\n",
    "history_df.to_csv('../../cetaceous_group_predictor/history_df.csv' , sep= ';' , index= False)\n",
    "\n",
    "print('Elements correctly saved')\n",
    "print('\\nEND OF THE TRAINING')"
   ]
  },
  {
   "cell_type": "code",
   "execution_count": null,
   "id": "3bd9437e",
   "metadata": {},
   "outputs": [],
   "source": []
  }
 ],
 "metadata": {
  "kernelspec": {
   "display_name": "Python 3",
   "language": "python",
   "name": "python3"
  },
  "language_info": {
   "codemirror_mode": {
    "name": "ipython",
    "version": 3
   },
   "file_extension": ".py",
   "mimetype": "text/x-python",
   "name": "python",
   "nbconvert_exporter": "python",
   "pygments_lexer": "ipython3",
   "version": "3.7.4"
  }
 },
 "nbformat": 4,
 "nbformat_minor": 5
}
