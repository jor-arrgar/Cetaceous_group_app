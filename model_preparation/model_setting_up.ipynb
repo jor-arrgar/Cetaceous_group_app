{
 "cells": [
  {
   "cell_type": "code",
   "execution_count": 1,
   "id": "c0b7130e",
   "metadata": {},
   "outputs": [],
   "source": [
    "import pandas as pd\n",
    "import numpy as np\n",
    "import cv2\n",
    "import matplotlib.pyplot as plt"
   ]
  },
  {
   "cell_type": "code",
   "execution_count": 2,
   "id": "e9ae4eaf",
   "metadata": {},
   "outputs": [
    {
     "data": {
      "text/html": [
       "<div>\n",
       "<style scoped>\n",
       "    .dataframe tbody tr th:only-of-type {\n",
       "        vertical-align: middle;\n",
       "    }\n",
       "\n",
       "    .dataframe tbody tr th {\n",
       "        vertical-align: top;\n",
       "    }\n",
       "\n",
       "    .dataframe thead th {\n",
       "        text-align: right;\n",
       "    }\n",
       "</style>\n",
       "<table border=\"1\" class=\"dataframe\">\n",
       "  <thead>\n",
       "    <tr style=\"text-align: right;\">\n",
       "      <th></th>\n",
       "      <th>image</th>\n",
       "      <th>species</th>\n",
       "      <th>individual_id</th>\n",
       "      <th>mammal group</th>\n",
       "      <th>categories</th>\n",
       "    </tr>\n",
       "  </thead>\n",
       "  <tbody>\n",
       "    <tr>\n",
       "      <th>0</th>\n",
       "      <td>dfaa26cf13a214.jpg</td>\n",
       "      <td>beluga</td>\n",
       "      <td>19b638e11443</td>\n",
       "      <td>beluga</td>\n",
       "      <td>2</td>\n",
       "    </tr>\n",
       "    <tr>\n",
       "      <th>1</th>\n",
       "      <td>6cfa1b234f2a04.jpg</td>\n",
       "      <td>killer_whale</td>\n",
       "      <td>0e461620e872</td>\n",
       "      <td>dolphin</td>\n",
       "      <td>0</td>\n",
       "    </tr>\n",
       "    <tr>\n",
       "      <th>2</th>\n",
       "      <td>440b6036e54ce8.jpg</td>\n",
       "      <td>bottlenose_dolpin</td>\n",
       "      <td>c02b7ad6faa0</td>\n",
       "      <td>dolphin</td>\n",
       "      <td>0</td>\n",
       "    </tr>\n",
       "    <tr>\n",
       "      <th>3</th>\n",
       "      <td>7fba21051447fd.jpg</td>\n",
       "      <td>beluga</td>\n",
       "      <td>babd014300b7</td>\n",
       "      <td>beluga</td>\n",
       "      <td>2</td>\n",
       "    </tr>\n",
       "    <tr>\n",
       "      <th>4</th>\n",
       "      <td>d381ef7ac5d5a3.jpg</td>\n",
       "      <td>beluga</td>\n",
       "      <td>5ac053677ed1</td>\n",
       "      <td>beluga</td>\n",
       "      <td>2</td>\n",
       "    </tr>\n",
       "  </tbody>\n",
       "</table>\n",
       "</div>"
      ],
      "text/plain": [
       "                image            species individual_id mammal group  \\\n",
       "0  dfaa26cf13a214.jpg             beluga  19b638e11443       beluga   \n",
       "1  6cfa1b234f2a04.jpg       killer_whale  0e461620e872      dolphin   \n",
       "2  440b6036e54ce8.jpg  bottlenose_dolpin  c02b7ad6faa0      dolphin   \n",
       "3  7fba21051447fd.jpg             beluga  babd014300b7       beluga   \n",
       "4  d381ef7ac5d5a3.jpg             beluga  5ac053677ed1       beluga   \n",
       "\n",
       "   categories  \n",
       "0           2  \n",
       "1           0  \n",
       "2           0  \n",
       "3           2  \n",
       "4           2  "
      ]
     },
     "execution_count": 2,
     "metadata": {},
     "output_type": "execute_result"
    }
   ],
   "source": [
    "dataset = pd.read_csv('./data.csv' , sep= ';')\n",
    "dataset.head()"
   ]
  },
  {
   "cell_type": "code",
   "execution_count": 3,
   "id": "83ee6f8d",
   "metadata": {},
   "outputs": [
    {
     "data": {
      "text/html": [
       "<div>\n",
       "<style scoped>\n",
       "    .dataframe tbody tr th:only-of-type {\n",
       "        vertical-align: middle;\n",
       "    }\n",
       "\n",
       "    .dataframe tbody tr th {\n",
       "        vertical-align: top;\n",
       "    }\n",
       "\n",
       "    .dataframe thead th {\n",
       "        text-align: right;\n",
       "    }\n",
       "</style>\n",
       "<table border=\"1\" class=\"dataframe\">\n",
       "  <thead>\n",
       "    <tr style=\"text-align: right;\">\n",
       "      <th></th>\n",
       "      <th>image</th>\n",
       "      <th>species</th>\n",
       "      <th>individual_id</th>\n",
       "      <th>mammal group</th>\n",
       "      <th>categories</th>\n",
       "    </tr>\n",
       "  </thead>\n",
       "  <tbody>\n",
       "    <tr>\n",
       "      <th>0</th>\n",
       "      <td>dfaa26cf13a214.jpg</td>\n",
       "      <td>beluga</td>\n",
       "      <td>19b638e11443</td>\n",
       "      <td>beluga</td>\n",
       "      <td>2</td>\n",
       "    </tr>\n",
       "    <tr>\n",
       "      <th>1</th>\n",
       "      <td>6cfa1b234f2a04.jpg</td>\n",
       "      <td>killer_whale</td>\n",
       "      <td>0e461620e872</td>\n",
       "      <td>dolphin</td>\n",
       "      <td>0</td>\n",
       "    </tr>\n",
       "    <tr>\n",
       "      <th>2</th>\n",
       "      <td>440b6036e54ce8.jpg</td>\n",
       "      <td>bottlenose_dolpin</td>\n",
       "      <td>c02b7ad6faa0</td>\n",
       "      <td>dolphin</td>\n",
       "      <td>0</td>\n",
       "    </tr>\n",
       "    <tr>\n",
       "      <th>3</th>\n",
       "      <td>7fba21051447fd.jpg</td>\n",
       "      <td>beluga</td>\n",
       "      <td>babd014300b7</td>\n",
       "      <td>beluga</td>\n",
       "      <td>2</td>\n",
       "    </tr>\n",
       "    <tr>\n",
       "      <th>4</th>\n",
       "      <td>d381ef7ac5d5a3.jpg</td>\n",
       "      <td>beluga</td>\n",
       "      <td>5ac053677ed1</td>\n",
       "      <td>beluga</td>\n",
       "      <td>2</td>\n",
       "    </tr>\n",
       "  </tbody>\n",
       "</table>\n",
       "</div>"
      ],
      "text/plain": [
       "                image            species individual_id mammal group  \\\n",
       "0  dfaa26cf13a214.jpg             beluga  19b638e11443       beluga   \n",
       "1  6cfa1b234f2a04.jpg       killer_whale  0e461620e872      dolphin   \n",
       "2  440b6036e54ce8.jpg  bottlenose_dolpin  c02b7ad6faa0      dolphin   \n",
       "3  7fba21051447fd.jpg             beluga  babd014300b7       beluga   \n",
       "4  d381ef7ac5d5a3.jpg             beluga  5ac053677ed1       beluga   \n",
       "\n",
       "   categories  \n",
       "0           2  \n",
       "1           0  \n",
       "2           0  \n",
       "3           2  \n",
       "4           2  "
      ]
     },
     "execution_count": 3,
     "metadata": {},
     "output_type": "execute_result"
    }
   ],
   "source": [
    "categories = []\n",
    "for mammal in dataset['mammal group']:\n",
    "    if mammal == 'dolphin':\n",
    "        categories.append(0)\n",
    "    elif mammal == 'whale':\n",
    "        categories.append(1)\n",
    "    else:\n",
    "        categories.append(2)\n",
    "dataset['categories'] = categories\n",
    "dataset.head()"
   ]
  },
  {
   "cell_type": "code",
   "execution_count": 4,
   "id": "29963f0d",
   "metadata": {},
   "outputs": [
    {
     "name": "stdout",
     "output_type": "stream",
     "text": [
      "4500\n"
     ]
    }
   ],
   "source": [
    "image_list = []\n",
    "for image in dataset['image']:\n",
    "    path = './cetaceous_images/' + image\n",
    "    img = cv2.imread(path)\n",
    "    image = cv2.resize(img, (32, 32))\n",
    "    image_list.append(image)\n",
    "print(len(image_list))"
   ]
  },
  {
   "cell_type": "code",
   "execution_count": 5,
   "id": "b2f40580",
   "metadata": {},
   "outputs": [
    {
     "name": "stdout",
     "output_type": "stream",
     "text": [
      "[[[ 99  97  87]\n",
      "  [ 78  77  67]\n",
      "  [ 93  93  80]\n",
      "  ...\n",
      "  [101  98  88]\n",
      "  [ 94  95  86]\n",
      "  [ 84  84  72]]\n",
      "\n",
      " [[ 92  90  80]\n",
      "  [ 95  93  83]\n",
      "  [105 104  99]\n",
      "  ...\n",
      "  [ 90  86  80]\n",
      "  [ 98  97  88]\n",
      "  [ 95  93  82]]\n",
      "\n",
      " [[ 99  97  87]\n",
      "  [104 101  93]\n",
      "  [ 84  84  77]\n",
      "  ...\n",
      "  [ 84  83  72]\n",
      "  [ 97  96  86]\n",
      "  [105  99  91]]\n",
      "\n",
      " ...\n",
      "\n",
      " [[ 80  77  69]\n",
      "  [ 58  57  53]\n",
      "  [ 79  80  76]\n",
      "  ...\n",
      "  [ 61  67  62]\n",
      "  [ 56  62  62]\n",
      "  [ 55  64  68]]\n",
      "\n",
      " [[ 93  90  82]\n",
      "  [ 75  77  69]\n",
      "  [ 58  59  55]\n",
      "  ...\n",
      "  [ 90  91  78]\n",
      "  [ 72  74  66]\n",
      "  [ 60  64  63]]\n",
      "\n",
      " [[ 74  71  67]\n",
      "  [ 81  85  73]\n",
      "  [ 92  91  78]\n",
      "  ...\n",
      "  [ 88  86  75]\n",
      "  [ 92  92  79]\n",
      "  [ 68  69  60]]]\n"
     ]
    }
   ],
   "source": [
    "print(image_list[0])"
   ]
  },
  {
   "cell_type": "code",
   "execution_count": 6,
   "id": "1f6ced42",
   "metadata": {},
   "outputs": [
    {
     "data": {
      "text/plain": [
       "<matplotlib.image.AxesImage at 0x27e16e3cec8>"
      ]
     },
     "execution_count": 6,
     "metadata": {},
     "output_type": "execute_result"
    },
    {
     "data": {
      "image/png": "[encoded data removed]",
      "text/plain": [
       "<Figure size 432x288 with 1 Axes>"
      ]
     },
     "metadata": {
      "needs_background": "light"
     },
     "output_type": "display_data"
    }
   ],
   "source": [
    "prueba = image_list[0]\n",
    "plt.imshow(prueba)"
   ]
  },
  {
   "cell_type": "code",
   "execution_count": 5,
   "id": "23bd1cbf",
   "metadata": {},
   "outputs": [
    {
     "data": {
      "text/plain": [
       "array([[0., 0., 1.],\n",
       "       [1., 0., 0.],\n",
       "       [1., 0., 0.],\n",
       "       ...,\n",
       "       [1., 0., 0.],\n",
       "       [0., 0., 1.],\n",
       "       [0., 0., 1.]], dtype=float32)"
      ]
     },
     "execution_count": 5,
     "metadata": {},
     "output_type": "execute_result"
    }
   ],
   "source": [
    "from tensorflow.keras.utils import to_categorical\n",
    "y = to_categorical(dataset['categories'])\n",
    "y"
   ]
  },
  {
   "cell_type": "code",
   "execution_count": 7,
   "id": "0633e7de",
   "metadata": {},
   "outputs": [
    {
     "name": "stdout",
     "output_type": "stream",
     "text": [
      "3600\n"
     ]
    }
   ],
   "source": [
    "from sklearn.model_selection import train_test_split\n",
    "from tensorflow.keras.utils import to_categorical\n",
    "\n",
    "X = ((np.array(image_list)) / 255)\n",
    "y = to_categorical(dataset['categories'])\n",
    "#y = dataset['categories']\n",
    "\n",
    "X_train , X_test , y_train , y_test = train_test_split(X , y , test_size= 0.2 , random_state= 98)\n",
    "print(len(X_train))\n"
   ]
  },
  {
   "cell_type": "code",
   "execution_count": 8,
   "id": "f52cc93a",
   "metadata": {},
   "outputs": [
    {
     "data": {
      "text/plain": [
       "array([[[1.        , 0.85490196, 0.76078431],\n",
       "        [1.        , 0.86666667, 0.79607843],\n",
       "        [1.        , 0.87843137, 0.81960784],\n",
       "        ...,\n",
       "        [1.        , 0.89803922, 0.84313725],\n",
       "        [1.        , 0.89803922, 0.83137255],\n",
       "        [1.        , 0.89019608, 0.83137255]],\n",
       "\n",
       "       [[1.        , 0.8745098 , 0.81176471],\n",
       "        [0.99607843, 0.87843137, 0.80392157],\n",
       "        [1.        , 0.88235294, 0.82352941],\n",
       "        ...,\n",
       "        [1.        , 0.88235294, 0.80784314],\n",
       "        [0.99607843, 0.87843137, 0.80392157],\n",
       "        [1.        , 0.87843137, 0.80392157]],\n",
       "\n",
       "       [[1.        , 0.8627451 , 0.78431373],\n",
       "        [0.99215686, 0.86666667, 0.77647059],\n",
       "        [1.        , 0.8745098 , 0.79607843],\n",
       "        ...,\n",
       "        [1.        , 0.89019608, 0.81568627],\n",
       "        [1.        , 0.88627451, 0.81176471],\n",
       "        [1.        , 0.88235294, 0.8       ]],\n",
       "\n",
       "       ...,\n",
       "\n",
       "       [[0.45490196, 0.4       , 0.31372549],\n",
       "        [0.65490196, 0.55294118, 0.48627451],\n",
       "        [0.60392157, 0.49803922, 0.39215686],\n",
       "        ...,\n",
       "        [0.69411765, 0.59607843, 0.55686275],\n",
       "        [0.73333333, 0.63137255, 0.57647059],\n",
       "        [0.49019608, 0.42352941, 0.34901961]],\n",
       "\n",
       "       [[0.49019608, 0.44313725, 0.34901961],\n",
       "        [0.51372549, 0.43137255, 0.3254902 ],\n",
       "        [0.52941176, 0.41568627, 0.35686275],\n",
       "        ...,\n",
       "        [0.69803922, 0.61960784, 0.55294118],\n",
       "        [0.61176471, 0.51372549, 0.44313725],\n",
       "        [0.72156863, 0.63529412, 0.58823529]],\n",
       "\n",
       "       [[0.64313725, 0.51372549, 0.41176471],\n",
       "        [0.60392157, 0.49411765, 0.4       ],\n",
       "        [0.64313725, 0.5372549 , 0.43137255],\n",
       "        ...,\n",
       "        [0.58431373, 0.51372549, 0.42745098],\n",
       "        [0.63529412, 0.54117647, 0.49411765],\n",
       "        [0.5254902 , 0.44705882, 0.37647059]]])"
      ]
     },
     "execution_count": 8,
     "metadata": {},
     "output_type": "execute_result"
    }
   ],
   "source": [
    "X_train[0]"
   ]
  },
  {
   "cell_type": "code",
   "execution_count": 9,
   "id": "bc89e074",
   "metadata": {},
   "outputs": [
    {
     "name": "stdout",
     "output_type": "stream",
     "text": [
      "(3600, 3) (3600, 32, 32, 3)\n"
     ]
    }
   ],
   "source": [
    "print(y_train.shape , X_train.shape)"
   ]
  },
  {
   "cell_type": "code",
   "execution_count": 10,
   "id": "895ba03d",
   "metadata": {},
   "outputs": [
    {
     "name": "stdout",
     "output_type": "stream",
     "text": [
      "(3600, 32, 32, 3)\n",
      "(900, 32, 32, 3)\n"
     ]
    }
   ],
   "source": [
    "X_train = X_train\n",
    "X_test = X_test\n",
    "print(X_train.shape)\n",
    "print(X_test.shape)"
   ]
  },
  {
   "cell_type": "code",
   "execution_count": 11,
   "id": "02798ddf",
   "metadata": {},
   "outputs": [],
   "source": [
    "X_val = X_train[-600:]\n",
    "y_val = y_train[-600:]\n",
    "X_train = X_train[:-600]\n",
    "y_train = y_train[:-600]\n"
   ]
  },
  {
   "cell_type": "code",
   "execution_count": 12,
   "id": "b6e15518",
   "metadata": {},
   "outputs": [
    {
     "name": "stdout",
     "output_type": "stream",
     "text": [
      "(600, 32, 32, 3) (3000, 32, 32, 3)\n",
      "(600, 3) (3000, 3)\n",
      "(32, 32, 3)\n"
     ]
    }
   ],
   "source": [
    "print(X_val.shape , X_train.shape)\n",
    "print(y_val.shape , y_train.shape)\n",
    "print(X_train[0].shape)"
   ]
  },
  {
   "cell_type": "code",
   "execution_count": 13,
   "id": "b2654f80",
   "metadata": {},
   "outputs": [],
   "source": [
    "from tensorflow.keras.models import Sequential\n",
    "from tensorflow.keras.layers import Conv2D, MaxPooling2D, Dropout, Flatten, Dense, Activation"
   ]
  },
  {
   "cell_type": "code",
   "execution_count": 14,
   "id": "45f5d1eb",
   "metadata": {},
   "outputs": [],
   "source": [
    "from tensorflow.keras.models import Sequential\n",
    "from tensorflow.keras.layers import Conv2D, MaxPooling2D, Dropout, Flatten, Dense, Activation\n",
    "\n",
    "model = Sequential()\n",
    "\n",
    "model.add(Conv2D(32, (3,3), activation='relu', \n",
    "               input_shape=(32, 32, 3)))\n",
    "model.add(MaxPooling2D(pool_size=(2,2)))\n",
    "model.add(Dropout(0.25))\n",
    "\n",
    "model.add(Conv2D(64, (3,3), activation='relu'))\n",
    "model.add(MaxPooling2D(pool_size=(2,2)))\n",
    "model.add(Dropout(0.25))\n",
    "\n",
    "model.add(Conv2D(128, (3,3), activation='relu'))\n",
    "model.add(MaxPooling2D(pool_size=(2,2)))\n",
    "model.add(Dropout(0.25))\n",
    "\n",
    "model.add(Flatten())\n",
    "model.add(Dense(512, activation='relu'))\n",
    "model.add(Dropout(0.5))\n",
    "model.add(Dense(3,activation='softmax')) \n",
    "\n",
    "\n",
    "\n",
    "model.compile(optimizer=\"adam\",\n",
    "              loss='categorical_crossentropy',\n",
    "              metrics=['accuracy'])"
   ]
  },
  {
   "cell_type": "code",
   "execution_count": 15,
   "id": "ef6b9d0c",
   "metadata": {},
   "outputs": [
    {
     "name": "stdout",
     "output_type": "stream",
     "text": [
      "Model: \"sequential\"\n",
      "_________________________________________________________________\n",
      " Layer (type)                Output Shape              Param #   \n",
      "=================================================================\n",
      " conv2d (Conv2D)             (None, 30, 30, 32)        896       \n",
      "                                                                 \n",
      " max_pooling2d (MaxPooling2D  (None, 15, 15, 32)       0         \n",
      " )                                                               \n",
      "                                                                 \n",
      " dropout (Dropout)           (None, 15, 15, 32)        0         \n",
      "                                                                 \n",
      " conv2d_1 (Conv2D)           (None, 13, 13, 64)        18496     \n",
      "                                                                 \n",
      " max_pooling2d_1 (MaxPooling  (None, 6, 6, 64)         0         \n",
      " 2D)                                                             \n",
      "                                                                 \n",
      " dropout_1 (Dropout)         (None, 6, 6, 64)          0         \n",
      "                                                                 \n",
      " conv2d_2 (Conv2D)           (None, 4, 4, 128)         73856     \n",
      "                                                                 \n",
      " max_pooling2d_2 (MaxPooling  (None, 2, 2, 128)        0         \n",
      " 2D)                                                             \n",
      "                                                                 \n",
      " dropout_2 (Dropout)         (None, 2, 2, 128)         0         \n",
      "                                                                 \n",
      " flatten (Flatten)           (None, 512)               0         \n",
      "                                                                 \n",
      " dense (Dense)               (None, 512)               262656    \n",
      "                                                                 \n",
      " dropout_3 (Dropout)         (None, 512)               0         \n",
      "                                                                 \n",
      " dense_1 (Dense)             (None, 3)                 1539      \n",
      "                                                                 \n",
      "=================================================================\n",
      "Total params: 357,443\n",
      "Trainable params: 357,443\n",
      "Non-trainable params: 0\n",
      "_________________________________________________________________\n"
     ]
    }
   ],
   "source": [
    "model.summary()"
   ]
  },
  {
   "cell_type": "code",
   "execution_count": 16,
   "id": "27a86e9b",
   "metadata": {},
   "outputs": [
    {
     "name": "stdout",
     "output_type": "stream",
     "text": [
      "Epoch 1/20\n",
      "47/47 [==============================] - 2s 36ms/step - loss: 0.8963 - accuracy: 0.5337 - val_loss: 0.7798 - val_accuracy: 0.5717\n",
      "Epoch 2/20\n",
      "47/47 [==============================] - 2s 33ms/step - loss: 0.7066 - accuracy: 0.6437 - val_loss: 0.6800 - val_accuracy: 0.7067\n",
      "Epoch 3/20\n",
      "47/47 [==============================] - 2s 33ms/step - loss: 0.6233 - accuracy: 0.7170 - val_loss: 0.5655 - val_accuracy: 0.7483\n",
      "Epoch 4/20\n",
      "47/47 [==============================] - 2s 33ms/step - loss: 0.5603 - accuracy: 0.7340 - val_loss: 0.5151 - val_accuracy: 0.7800\n",
      "Epoch 5/20\n",
      "47/47 [==============================] - 2s 34ms/step - loss: 0.5316 - accuracy: 0.7647 - val_loss: 0.5047 - val_accuracy: 0.7883\n",
      "Epoch 6/20\n",
      "47/47 [==============================] - 2s 34ms/step - loss: 0.4851 - accuracy: 0.7837 - val_loss: 0.4711 - val_accuracy: 0.7900\n",
      "Epoch 7/20\n",
      "47/47 [==============================] - 2s 34ms/step - loss: 0.4866 - accuracy: 0.7840 - val_loss: 0.4959 - val_accuracy: 0.7700\n",
      "Epoch 8/20\n",
      "47/47 [==============================] - 2s 35ms/step - loss: 0.4682 - accuracy: 0.8043 - val_loss: 0.4312 - val_accuracy: 0.8083\n",
      "Epoch 9/20\n",
      "47/47 [==============================] - 2s 35ms/step - loss: 0.4348 - accuracy: 0.8090 - val_loss: 0.4205 - val_accuracy: 0.8117\n",
      "Epoch 10/20\n",
      "47/47 [==============================] - 2s 34ms/step - loss: 0.4256 - accuracy: 0.8230 - val_loss: 0.4040 - val_accuracy: 0.8133\n",
      "Epoch 11/20\n",
      "47/47 [==============================] - 2s 34ms/step - loss: 0.4113 - accuracy: 0.8277 - val_loss: 0.4728 - val_accuracy: 0.7850\n",
      "Epoch 12/20\n",
      "47/47 [==============================] - 2s 35ms/step - loss: 0.3988 - accuracy: 0.8247 - val_loss: 0.4236 - val_accuracy: 0.8017\n",
      "Epoch 13/20\n",
      "47/47 [==============================] - 2s 35ms/step - loss: 0.3970 - accuracy: 0.8270 - val_loss: 0.4298 - val_accuracy: 0.7967\n",
      "Epoch 14/20\n",
      "47/47 [==============================] - 2s 35ms/step - loss: 0.3871 - accuracy: 0.8377 - val_loss: 0.3890 - val_accuracy: 0.8250\n",
      "Epoch 15/20\n",
      "47/47 [==============================] - 2s 35ms/step - loss: 0.3648 - accuracy: 0.8470 - val_loss: 0.3754 - val_accuracy: 0.8350\n",
      "Epoch 16/20\n",
      "47/47 [==============================] - 2s 36ms/step - loss: 0.3643 - accuracy: 0.8527 - val_loss: 0.3699 - val_accuracy: 0.8300\n",
      "Epoch 17/20\n",
      "47/47 [==============================] - 2s 38ms/step - loss: 0.3333 - accuracy: 0.8570 - val_loss: 0.3765 - val_accuracy: 0.8333\n",
      "Epoch 18/20\n",
      "47/47 [==============================] - 2s 40ms/step - loss: 0.3174 - accuracy: 0.8633 - val_loss: 0.3892 - val_accuracy: 0.8250\n",
      "Epoch 19/20\n",
      "47/47 [==============================] - 2s 37ms/step - loss: 0.3028 - accuracy: 0.8747 - val_loss: 0.3624 - val_accuracy: 0.8467\n",
      "Epoch 20/20\n",
      "47/47 [==============================] - 2s 38ms/step - loss: 0.3130 - accuracy: 0.8693 - val_loss: 0.4170 - val_accuracy: 0.8250\n"
     ]
    },
    {
     "data": {
      "image/png": "[encoded data removed]",
      "text/plain": [
       "<Figure size 576x360 with 1 Axes>"
      ]
     },
     "metadata": {
      "needs_background": "light"
     },
     "output_type": "display_data"
    }
   ],
   "source": [
    "history = model.fit(X_train,\n",
    "          y_train,\n",
    "          epochs=20,\n",
    "          batch_size=64, \n",
    "          validation_data = (X_val,y_val))\n",
    "\n",
    "pd.DataFrame(history.history).plot(figsize=(8,5))\n",
    "plt.grid(True)\n",
    "plt.show()"
   ]
  },
  {
   "cell_type": "code",
   "execution_count": 17,
   "id": "cb3dd87b",
   "metadata": {},
   "outputs": [
    {
     "data": {
      "text/html": [
       "<div>\n",
       "<style scoped>\n",
       "    .dataframe tbody tr th:only-of-type {\n",
       "        vertical-align: middle;\n",
       "    }\n",
       "\n",
       "    .dataframe tbody tr th {\n",
       "        vertical-align: top;\n",
       "    }\n",
       "\n",
       "    .dataframe thead th {\n",
       "        text-align: right;\n",
       "    }\n",
       "</style>\n",
       "<table border=\"1\" class=\"dataframe\">\n",
       "  <thead>\n",
       "    <tr style=\"text-align: right;\">\n",
       "      <th></th>\n",
       "      <th>loss</th>\n",
       "      <th>accuracy</th>\n",
       "      <th>val_loss</th>\n",
       "      <th>val_accuracy</th>\n",
       "    </tr>\n",
       "  </thead>\n",
       "  <tbody>\n",
       "    <tr>\n",
       "      <th>0</th>\n",
       "      <td>0.896259</td>\n",
       "      <td>0.533667</td>\n",
       "      <td>0.779773</td>\n",
       "      <td>0.571667</td>\n",
       "    </tr>\n",
       "    <tr>\n",
       "      <th>1</th>\n",
       "      <td>0.706625</td>\n",
       "      <td>0.643667</td>\n",
       "      <td>0.680035</td>\n",
       "      <td>0.706667</td>\n",
       "    </tr>\n",
       "    <tr>\n",
       "      <th>2</th>\n",
       "      <td>0.623319</td>\n",
       "      <td>0.717000</td>\n",
       "      <td>0.565501</td>\n",
       "      <td>0.748333</td>\n",
       "    </tr>\n",
       "    <tr>\n",
       "      <th>3</th>\n",
       "      <td>0.560282</td>\n",
       "      <td>0.734000</td>\n",
       "      <td>0.515120</td>\n",
       "      <td>0.780000</td>\n",
       "    </tr>\n",
       "    <tr>\n",
       "      <th>4</th>\n",
       "      <td>0.531556</td>\n",
       "      <td>0.764667</td>\n",
       "      <td>0.504691</td>\n",
       "      <td>0.788333</td>\n",
       "    </tr>\n",
       "    <tr>\n",
       "      <th>5</th>\n",
       "      <td>0.485149</td>\n",
       "      <td>0.783667</td>\n",
       "      <td>0.471112</td>\n",
       "      <td>0.790000</td>\n",
       "    </tr>\n",
       "    <tr>\n",
       "      <th>6</th>\n",
       "      <td>0.486589</td>\n",
       "      <td>0.784000</td>\n",
       "      <td>0.495912</td>\n",
       "      <td>0.770000</td>\n",
       "    </tr>\n",
       "    <tr>\n",
       "      <th>7</th>\n",
       "      <td>0.468247</td>\n",
       "      <td>0.804333</td>\n",
       "      <td>0.431156</td>\n",
       "      <td>0.808333</td>\n",
       "    </tr>\n",
       "    <tr>\n",
       "      <th>8</th>\n",
       "      <td>0.434799</td>\n",
       "      <td>0.809000</td>\n",
       "      <td>0.420525</td>\n",
       "      <td>0.811667</td>\n",
       "    </tr>\n",
       "    <tr>\n",
       "      <th>9</th>\n",
       "      <td>0.425650</td>\n",
       "      <td>0.823000</td>\n",
       "      <td>0.404009</td>\n",
       "      <td>0.813333</td>\n",
       "    </tr>\n",
       "    <tr>\n",
       "      <th>10</th>\n",
       "      <td>0.411252</td>\n",
       "      <td>0.827667</td>\n",
       "      <td>0.472822</td>\n",
       "      <td>0.785000</td>\n",
       "    </tr>\n",
       "    <tr>\n",
       "      <th>11</th>\n",
       "      <td>0.398792</td>\n",
       "      <td>0.824667</td>\n",
       "      <td>0.423594</td>\n",
       "      <td>0.801667</td>\n",
       "    </tr>\n",
       "    <tr>\n",
       "      <th>12</th>\n",
       "      <td>0.397024</td>\n",
       "      <td>0.827000</td>\n",
       "      <td>0.429819</td>\n",
       "      <td>0.796667</td>\n",
       "    </tr>\n",
       "    <tr>\n",
       "      <th>13</th>\n",
       "      <td>0.387105</td>\n",
       "      <td>0.837667</td>\n",
       "      <td>0.388993</td>\n",
       "      <td>0.825000</td>\n",
       "    </tr>\n",
       "    <tr>\n",
       "      <th>14</th>\n",
       "      <td>0.364823</td>\n",
       "      <td>0.847000</td>\n",
       "      <td>0.375442</td>\n",
       "      <td>0.835000</td>\n",
       "    </tr>\n",
       "    <tr>\n",
       "      <th>15</th>\n",
       "      <td>0.364281</td>\n",
       "      <td>0.852667</td>\n",
       "      <td>0.369928</td>\n",
       "      <td>0.830000</td>\n",
       "    </tr>\n",
       "    <tr>\n",
       "      <th>16</th>\n",
       "      <td>0.333311</td>\n",
       "      <td>0.857000</td>\n",
       "      <td>0.376481</td>\n",
       "      <td>0.833333</td>\n",
       "    </tr>\n",
       "    <tr>\n",
       "      <th>17</th>\n",
       "      <td>0.317444</td>\n",
       "      <td>0.863333</td>\n",
       "      <td>0.389160</td>\n",
       "      <td>0.825000</td>\n",
       "    </tr>\n",
       "    <tr>\n",
       "      <th>18</th>\n",
       "      <td>0.302847</td>\n",
       "      <td>0.874667</td>\n",
       "      <td>0.362436</td>\n",
       "      <td>0.846667</td>\n",
       "    </tr>\n",
       "    <tr>\n",
       "      <th>19</th>\n",
       "      <td>0.313047</td>\n",
       "      <td>0.869333</td>\n",
       "      <td>0.417014</td>\n",
       "      <td>0.825000</td>\n",
       "    </tr>\n",
       "  </tbody>\n",
       "</table>\n",
       "</div>"
      ],
      "text/plain": [
       "        loss  accuracy  val_loss  val_accuracy\n",
       "0   0.896259  0.533667  0.779773      0.571667\n",
       "1   0.706625  0.643667  0.680035      0.706667\n",
       "2   0.623319  0.717000  0.565501      0.748333\n",
       "3   0.560282  0.734000  0.515120      0.780000\n",
       "4   0.531556  0.764667  0.504691      0.788333\n",
       "5   0.485149  0.783667  0.471112      0.790000\n",
       "6   0.486589  0.784000  0.495912      0.770000\n",
       "7   0.468247  0.804333  0.431156      0.808333\n",
       "8   0.434799  0.809000  0.420525      0.811667\n",
       "9   0.425650  0.823000  0.404009      0.813333\n",
       "10  0.411252  0.827667  0.472822      0.785000\n",
       "11  0.398792  0.824667  0.423594      0.801667\n",
       "12  0.397024  0.827000  0.429819      0.796667\n",
       "13  0.387105  0.837667  0.388993      0.825000\n",
       "14  0.364823  0.847000  0.375442      0.835000\n",
       "15  0.364281  0.852667  0.369928      0.830000\n",
       "16  0.333311  0.857000  0.376481      0.833333\n",
       "17  0.317444  0.863333  0.389160      0.825000\n",
       "18  0.302847  0.874667  0.362436      0.846667\n",
       "19  0.313047  0.869333  0.417014      0.825000"
      ]
     },
     "execution_count": 17,
     "metadata": {},
     "output_type": "execute_result"
    }
   ],
   "source": [
    "history_df = pd.DataFrame(history.history)\n",
    "history_df"
   ]
  },
  {
   "cell_type": "code",
   "execution_count": 18,
   "id": "f7cdbdd2",
   "metadata": {},
   "outputs": [
    {
     "name": "stdout",
     "output_type": "stream",
     "text": [
      "29/29 [==============================] - 0s 6ms/step - loss: 0.4073 - accuracy: 0.8511\n",
      "test loss, test accuracy [0.4072558581829071, 0.851111114025116]\n"
     ]
    }
   ],
   "source": [
    "results = model.evaluate(X_test, y_test)\n",
    "print(\"test loss, test accuracy\",results)"
   ]
  },
  {
   "cell_type": "code",
   "execution_count": 19,
   "id": "5671cd1e",
   "metadata": {},
   "outputs": [],
   "source": [
    "loss = list(history_df['loss'])[-1]\n",
    "train_accuracy = list(history_df['accuracy'])[-1]\n",
    "val_accuracy = list(history_df['val_accuracy'])[-1]\n",
    "test_loss = results[0]\n",
    "test_accuracy = results[1]"
   ]
  },
  {
   "cell_type": "code",
   "execution_count": 20,
   "id": "f0552c47",
   "metadata": {},
   "outputs": [
    {
     "data": {
      "text/plain": [
       "array([[0.31304675],\n",
       "       [0.86933333],\n",
       "       [0.82499999],\n",
       "       [0.40725586],\n",
       "       [0.85111111]])"
      ]
     },
     "execution_count": 20,
     "metadata": {},
     "output_type": "execute_result"
    }
   ],
   "source": [
    "results_array = np.array([[loss] , [train_accuracy] , [val_accuracy] , [test_loss] , [test_accuracy]])\n",
    "results_array"
   ]
  },
  {
   "cell_type": "code",
   "execution_count": 21,
   "id": "c2151196",
   "metadata": {},
   "outputs": [
    {
     "data": {
      "text/plain": [
       "array([[0.31304675, 0.86933333, 0.82499999, 0.40725586, 0.85111111]])"
      ]
     },
     "execution_count": 21,
     "metadata": {},
     "output_type": "execute_result"
    }
   ],
   "source": [
    "results_array = results_array.transpose()\n",
    "results_array"
   ]
  },
  {
   "cell_type": "code",
   "execution_count": 23,
   "id": "e584e4c0",
   "metadata": {},
   "outputs": [
    {
     "data": {
      "text/html": [
       "<div>\n",
       "<style scoped>\n",
       "    .dataframe tbody tr th:only-of-type {\n",
       "        vertical-align: middle;\n",
       "    }\n",
       "\n",
       "    .dataframe tbody tr th {\n",
       "        vertical-align: top;\n",
       "    }\n",
       "\n",
       "    .dataframe thead th {\n",
       "        text-align: right;\n",
       "    }\n",
       "</style>\n",
       "<table border=\"1\" class=\"dataframe\">\n",
       "  <thead>\n",
       "    <tr style=\"text-align: right;\">\n",
       "      <th></th>\n",
       "      <th>train loss</th>\n",
       "      <th>train accuracy</th>\n",
       "      <th>val accuracy</th>\n",
       "      <th>test loss</th>\n",
       "      <th>test accuracy</th>\n",
       "    </tr>\n",
       "  </thead>\n",
       "  <tbody>\n",
       "    <tr>\n",
       "      <th>0</th>\n",
       "      <td>0.313047</td>\n",
       "      <td>0.869333</td>\n",
       "      <td>0.825</td>\n",
       "      <td>0.407256</td>\n",
       "      <td>0.851111</td>\n",
       "    </tr>\n",
       "  </tbody>\n",
       "</table>\n",
       "</div>"
      ],
      "text/plain": [
       "   train loss  train accuracy  val accuracy  test loss  test accuracy\n",
       "0    0.313047        0.869333         0.825   0.407256       0.851111"
      ]
     },
     "execution_count": 23,
     "metadata": {},
     "output_type": "execute_result"
    }
   ],
   "source": [
    "results_df = pd.DataFrame(results_array , columns= ['train loss' , 'train accuracy' , 'val accuracy' , 'test loss' , 'test accuracy'])\n",
    "results_df\n"
   ]
  },
  {
   "cell_type": "code",
   "execution_count": null,
   "id": "99501e24",
   "metadata": {},
   "outputs": [],
   "source": []
  }
 ],
 "metadata": {
  "kernelspec": {
   "display_name": "Python 3",
   "language": "python",
   "name": "python3"
  },
  "language_info": {
   "codemirror_mode": {
    "name": "ipython",
    "version": 3
   },
   "file_extension": ".py",
   "mimetype": "text/x-python",
   "name": "python",
   "nbconvert_exporter": "python",
   "pygments_lexer": "ipython3",
   "version": "3.7.4"
  }
 },
 "nbformat": 4,
 "nbformat_minor": 5
}
